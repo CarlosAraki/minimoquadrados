{
 "cells": [
  {
   "cell_type": "code",
   "execution_count": 1,
   "id": "15ea0109",
   "metadata": {},
   "outputs": [],
   "source": [
    "import scipy as sp\n",
    "import pandas as pd\n",
    "import matplotlib.pyplot as plt\n",
    "import statsmodels.formula.api as sm\n",
    "import numpy as np\n"
   ]
  },
  {
   "cell_type": "code",
   "execution_count": 2,
   "id": "e0023318",
   "metadata": {},
   "outputs": [
    {
     "data": {
      "text/plain": [
       "array([[-1.22758267],\n",
       "       [-2.09557092],\n",
       "       [-3.15355636]])"
      ]
     },
     "execution_count": 2,
     "metadata": {},
     "output_type": "execute_result"
    }
   ],
   "source": [
    "#x 1.0 1.25 1.5 1.75 2.0\n",
    "#y 0.571 0.293 0.123 0.0427 0.0123\n",
    "# funcao -> y = alpha *x^beta *e ^(-gama*x^(2))\n",
    "Y = np.array([\n",
    "    [np.log(0.293)],\n",
    "    [np.log(0.123)],\n",
    "    [np.log(0.0427)],\n",
    "    ])\n",
    "Y"
   ]
  },
  {
   "cell_type": "code",
   "execution_count": 3,
   "id": "52957764",
   "metadata": {},
   "outputs": [
    {
     "data": {
      "text/plain": [
       "array([[ 1.        ,  0.22314355, -3.49034296],\n",
       "       [ 1.        ,  0.40546511, -4.48168907],\n",
       "       [ 1.        ,  0.55961579, -5.75460268]])"
      ]
     },
     "execution_count": 3,
     "metadata": {},
     "output_type": "execute_result"
    }
   ],
   "source": [
    "Omega = np.array([\n",
    "    [1, np.log(1.25), -1*np.exp(1.25)],\n",
    "    [1, np.log(1.5),  -1*np.exp(1.5)],\n",
    "    [1, np.log(1.75), -1*np.exp(1.75)],\n",
    "    ])\n",
    "\n",
    "Omega"
   ]
  },
  {
   "cell_type": "code",
   "execution_count": 4,
   "id": "e6ffbec4",
   "metadata": {},
   "outputs": [
    {
     "data": {
      "text/plain": [
       "array([[ -2.20447821,   8.44213922,  -5.23766102],\n",
       "       [-16.05938462,  28.56644593, -12.50706131],\n",
       "       [ -1.9448021 ,   4.24501477,  -2.30021267]])"
      ]
     },
     "execution_count": 4,
     "metadata": {},
     "output_type": "execute_result"
    }
   ],
   "source": [
    "OmegaInv = np.linalg.inv(Omega)\n",
    "OmegaInv"
   ]
  },
  {
   "cell_type": "code",
   "execution_count": 5,
   "id": "09a65237",
   "metadata": {},
   "outputs": [
    {
     "name": "stdout",
     "output_type": "stream",
     "text": [
      "[[ 1.53233696]\n",
      " [-0.7070685 ]\n",
      " [ 0.74552612]]\n",
      "[[ 1.53233696]\n",
      " [-0.7070685 ]\n",
      " [ 0.74552612]]\n"
     ]
    }
   ],
   "source": [
    "X = np.linalg.solve(Omega, Y)\n",
    "X\n",
    "\n",
    "#OU \n",
    "\n",
    "X2 = OmegaInv @ Y\n",
    "print(X)\n",
    "print(X2)\n"
   ]
  },
  {
   "cell_type": "code",
   "execution_count": 10,
   "id": "9cf48957",
   "metadata": {},
   "outputs": [
    {
     "name": "stdout",
     "output_type": "stream",
     "text": [
      "4.6289819312502445\n",
      "-0.7070685002014545\n",
      "0.7455261228428632\n"
     ]
    }
   ],
   "source": [
    "alpha =  np.exp(X2[0][0])\n",
    "beta = X2[1][0]\n",
    "gama = X2[2][0]\n",
    "print(alpha)\n",
    "print(beta)\n",
    "print(gama)"
   ]
  },
  {
   "cell_type": "code",
   "execution_count": null,
   "id": "9f732c8f",
   "metadata": {},
   "outputs": [],
   "source": []
  }
 ],
 "metadata": {
  "kernelspec": {
   "display_name": "Python 3 (ipykernel)",
   "language": "python",
   "name": "python3"
  },
  "language_info": {
   "codemirror_mode": {
    "name": "ipython",
    "version": 3
   },
   "file_extension": ".py",
   "mimetype": "text/x-python",
   "name": "python",
   "nbconvert_exporter": "python",
   "pygments_lexer": "ipython3",
   "version": "3.9.5"
  }
 },
 "nbformat": 4,
 "nbformat_minor": 5
}
